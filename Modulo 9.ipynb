{
 "cells": [
  {
   "cell_type": "code",
   "execution_count": 14,
   "metadata": {},
   "outputs": [
    {
     "name": "stdout",
     "output_type": "stream",
     "text": [
      " Promedio de combustible: 20.0 litros \n",
      " Primer tranque: 15 litros \n",
      " Segundo taque: 20 litros \n",
      " Tercer tanque: 25 litros \n"
     ]
    }
   ],
   "source": [
    "def Combustible(tanque1, tanque2, tanque3):\n",
    "    promedio = (tanque1 + tanque2 + tanque3) / 3\n",
    "    return f\"\"\" Promedio de combustible: {promedio} litros \\n Primer tranque: {tanque1} litros \\n Segundo taque: {tanque2} litros \\n Tercer tanque: {tanque3} litros \"\"\"\n",
    "\n",
    "print(Combustible(15, 20, 25))"
   ]
  },
  {
   "cell_type": "code",
   "execution_count": 17,
   "metadata": {},
   "outputs": [
    {
     "name": "stdout",
     "output_type": "stream",
     "text": [
      " Promedio de combustible: 20.0 litros \n",
      " Primer tranque: 15 litros \n",
      " Segundo taque: 20 litros \n",
      " Tercer tanque: 25 litros \n"
     ]
    }
   ],
   "source": [
    "def promediador(litros):\n",
    "    total = sum(litros)\n",
    "    tanques = len(litros)\n",
    "    return total / tanques\n",
    "def Combustible(tanque1, tanque2, tanque3):\n",
    "    promedio = (tanque1 + tanque2 + tanque3) / 3\n",
    "    return f\"\"\" Promedio de combustible: {promediador([tanque1, tanque2, tanque3])} litros \\n Primer tranque: {tanque1} litros \\n Segundo taque: {tanque2} litros \\n Tercer tanque: {tanque3} litros \"\"\"\n",
    "\n",
    "print(Combustible(15, 20, 25))"
   ]
  },
  {
   "cell_type": "code",
   "execution_count": 18,
   "metadata": {},
   "outputs": [
    {
     "name": "stdout",
     "output_type": "stream",
     "text": [
      " Viaje a Moon \n",
      " tiempo de viaje: 65 \n",
      " oxidante: 200000 \\ combustible 300000 \n"
     ]
    }
   ],
   "source": [
    "def reporte(prelanzamiento, tiempo, destino, oxidante, hidrogeno):\n",
    "    return f\"\"\" Viaje a {destino} \\n tiempo de viaje: {prelanzamiento + tiempo} \\n oxidante: {oxidante} \\ combustible {hidrogeno} \"\"\"\n",
    "    \n",
    "print(reporte(56, 45, \"ISS\", 23423, 456456))"
   ]
  },
  {
   "cell_type": "code",
   "execution_count": 39,
   "metadata": {},
   "outputs": [
    {
     "name": "stdout",
     "output_type": "stream",
     "text": [
      " Viaje a ISS \n",
      " tiempo de viaje: 150 \n",
      " combustible: 500 \n"
     ]
    }
   ],
   "source": [
    "def reporte(destino, *tiempos,  **combustiibles):\n",
    "    return f\"\"\" Viaje a {destino} \\n tiempo de viaje: {sum(tiempos)} \\n combustible: {sum(combustiibles.values())} \"\"\"\n",
    "    \n",
    "print(reporte(\"ISS\", 100, 50, OXIDANTE=200, HIDROGENO=300))"
   ]
  },
  {
   "cell_type": "code",
   "execution_count": 47,
   "metadata": {},
   "outputs": [
    {
     "name": "stdout",
     "output_type": "stream",
     "text": [
      " Viaje a ISS \n",
      " tiempo de viaje: 150 \n",
      " combustible: 500 \n",
      "200 litros de OXIDANTE  \n",
      "300 litros de HIDROGENO  \n",
      "\n"
     ]
    }
   ],
   "source": [
    "def reporte(destino, *tiempos,  **combustiibles):\n",
    "    reporte = f\"\"\" Viaje a {destino} \\n tiempo de viaje: {sum(tiempos)} \\n combustible: {sum(combustiibles.values())} \\n\"\"\"\n",
    "    \n",
    "    for tipo, cantidad in combustiibles.items():\n",
    "        reporte += f\"{cantidad} litros de {tipo}  \\n\"\n",
    "    return reporte\n",
    "\n",
    "print(reporte(\"ISS\", 100, 50, OXIDANTE=200, HIDROGENO=300))"
   ]
  }
 ],
 "metadata": {
  "interpreter": {
   "hash": "43ff65a89338dbd230192fd452419bd00f9742827d9212a513d880943dd6dd8a"
  },
  "kernelspec": {
   "display_name": "Python 3.10.2 64-bit",
   "language": "python",
   "name": "python3"
  },
  "language_info": {
   "codemirror_mode": {
    "name": "ipython",
    "version": 3
   },
   "file_extension": ".py",
   "mimetype": "text/x-python",
   "name": "python",
   "nbconvert_exporter": "python",
   "pygments_lexer": "ipython3",
   "version": "3.10.2"
  },
  "orig_nbformat": 4
 },
 "nbformat": 4,
 "nbformat_minor": 2
}
