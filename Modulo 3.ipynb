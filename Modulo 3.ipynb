{
 "cells": [
  {
   "cell_type": "markdown",
   "metadata": {},
   "source": [
    "# Advertencia de asteroide"
   ]
  },
  {
   "cell_type": "code",
   "execution_count": 20,
   "metadata": {},
   "outputs": [
    {
     "name": "stdout",
     "output_type": "stream",
     "text": [
      "Advertecia de tamano \n",
      "Advertecia de velocidad \n",
      "Puedes ver el rayo de luz \n"
     ]
    }
   ],
   "source": [
    "VelMax = 25\n",
    "VelReg = 0\n",
    "VelVis = 20\n",
    "tamano = 0 \n",
    "\n",
    "\n",
    "VelReg = int(input(\"Ingresa la velocidad registrada \"))\n",
    "tamano = int(input(\"Ingresa el tamano registrado \"))\n",
    "if tamano >=25 :\n",
    "    print(\"Advertecia de tamano \")\n",
    "    if VelReg>VelMax :\n",
    "        print(\"Advertecia de velocidad \")\n",
    "        if  VelReg >= VelVis:\n",
    "                print(\"Puedes ver el rayo de luz \")\n",
    "    else :\n",
    "                print(\"No habra rayo de luz\")\n",
    "else :\n",
    "     if VelReg>VelMax :\n",
    "            print(\"Advertecia de velocidad de asteroide\")\n",
    "            if  VelReg >= VelVis  :\n",
    "                print(\"Puedes ver el rayo de luz \")\n",
    "     else :\n",
    "                print(\"No habra rayo de luz\")\n",
    "\n",
    "    "
   ]
  },
  {
   "cell_type": "code",
   "execution_count": null,
   "metadata": {},
   "outputs": [],
   "source": []
  }
 ],
 "metadata": {
  "interpreter": {
   "hash": "43ff65a89338dbd230192fd452419bd00f9742827d9212a513d880943dd6dd8a"
  },
  "kernelspec": {
   "display_name": "Python 3.10.2 64-bit",
   "language": "python",
   "name": "python3"
  },
  "language_info": {
   "codemirror_mode": {
    "name": "ipython",
    "version": 3
   },
   "file_extension": ".py",
   "mimetype": "text/x-python",
   "name": "python",
   "nbconvert_exporter": "python",
   "pygments_lexer": "ipython3",
   "version": "3.10.2"
  },
  "orig_nbformat": 4
 },
 "nbformat": 4,
 "nbformat_minor": 2
}
