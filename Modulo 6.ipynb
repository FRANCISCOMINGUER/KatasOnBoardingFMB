{
 "cells": [
  {
   "cell_type": "code",
   "execution_count": 6,
   "metadata": {},
   "outputs": [
    {
     "name": "stdout",
     "output_type": "stream",
     "text": [
      "Hay 8 planetas\n",
      "Pluto es el ultimo planeta\n"
     ]
    }
   ],
   "source": [
    "planetas = ['Mercurio', 'Venus', 'Tierra', 'Marte', 'Jupiter', 'Saturno', 'Urano', 'Neptuno']\n",
    "print(\"Hay\", len(planetas), 'planetas')\n",
    "\n",
    "planetas.append(\"Pluto\")\n",
    "print(planetas[-1], \"es el ultimo planeta\")"
   ]
  },
  {
   "cell_type": "code",
   "execution_count": 9,
   "metadata": {},
   "outputs": [
    {
     "name": "stdout",
     "output_type": "stream",
     "text": [
      "Planetas mas cercanos al sol que Venus\n",
      "['Mercurio']\n",
      "Planetas mas lejanos al sol que Venus\n",
      "['Tierra', 'Marte', 'Jupiter', 'Saturno', 'Urano', 'Neptuno']\n"
     ]
    }
   ],
   "source": [
    "planetas = ['Mercurio', 'Venus', 'Tierra', 'Marte', 'Jupiter', 'Saturno', 'Urano', 'Neptuno']\n",
    "\n",
    "planeta_seleccionado = input(\"Ingresa el planeta buscado(con mayuscula la primera letra\")\n",
    "\n",
    "indice = planetas.index(planeta_seleccionado)\n",
    "\n",
    "print(\"Planetas mas cercanos al sol que \" + planeta_seleccionado)\n",
    "print(planetas[0:indice])\n",
    "\n",
    "print(\"Planetas mas lejanos al sol que \" + planeta_seleccionado)\n",
    "print(planetas[indice + 1:])"
   ]
  }
 ],
 "metadata": {
  "interpreter": {
   "hash": "43ff65a89338dbd230192fd452419bd00f9742827d9212a513d880943dd6dd8a"
  },
  "kernelspec": {
   "display_name": "Python 3.10.2 64-bit",
   "language": "python",
   "name": "python3"
  },
  "language_info": {
   "codemirror_mode": {
    "name": "ipython",
    "version": 3
   },
   "file_extension": ".py",
   "mimetype": "text/x-python",
   "name": "python",
   "nbconvert_exporter": "python",
   "pygments_lexer": "ipython3",
   "version": "3.10.2"
  },
  "orig_nbformat": 4
 },
 "nbformat": 4,
 "nbformat_minor": 2
}
