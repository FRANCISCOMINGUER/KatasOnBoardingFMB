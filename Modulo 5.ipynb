{
 "cells": [
  {
   "cell_type": "code",
   "execution_count": 4,
   "metadata": {},
   "outputs": [
    {
     "name": "stdout",
     "output_type": "stream",
     "text": [
      "distancia en km =  628949330\n",
      "distancia en mi =  390577533.93\n"
     ]
    }
   ],
   "source": [
    "planeta1 = 149597870\n",
    "planeta2 = 778547200\n",
    "\n",
    "distkm = planeta2 - planeta1\n",
    "distmi = distkm*0.621\n",
    "print(\"distancia en km = \", distkm)\n",
    "print(\"distancia en mi = \",distmi)\n"
   ]
  },
  {
   "cell_type": "code",
   "execution_count": 5,
   "metadata": {},
   "outputs": [
    {
     "name": "stdout",
     "output_type": "stream",
     "text": [
      "distancia en km =  41400000\n",
      "distancia en mi =  25709400.0\n"
     ]
    }
   ],
   "source": [
    "planeta1 = int(input(\"introduce la distancia del sol para el planneta 1\"))\n",
    "planeta2 = int(input(\"introduce la distancia del sol para el planneta 2\"))\n",
    "distkm = planeta2 - planeta1\n",
    "distmi = distkm*0.621\n",
    "print(\"distancia en km = \", distkm)\n",
    "print(\"distancia en mi = \",abs(distmi))"
   ]
  }
 ],
 "metadata": {
  "interpreter": {
   "hash": "43ff65a89338dbd230192fd452419bd00f9742827d9212a513d880943dd6dd8a"
  },
  "kernelspec": {
   "display_name": "Python 3.10.2 64-bit",
   "language": "python",
   "name": "python3"
  },
  "language_info": {
   "codemirror_mode": {
    "name": "ipython",
    "version": 3
   },
   "file_extension": ".py",
   "mimetype": "text/x-python",
   "name": "python",
   "nbconvert_exporter": "python",
   "pygments_lexer": "ipython3",
   "version": "3.10.2"
  },
  "orig_nbformat": 4
 },
 "nbformat": 4,
 "nbformat_minor": 2
}
